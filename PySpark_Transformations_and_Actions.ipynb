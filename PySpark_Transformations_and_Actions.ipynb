{
  "nbformat": 4,
  "nbformat_minor": 0,
  "metadata": {
    "colab": {
      "name": "PySpark Transformations and Actions.ipynb",
      "provenance": [],
      "collapsed_sections": [],
      "authorship_tag": "ABX9TyPDXJX0xEi6m9t3HRa6bx0f",
      "include_colab_link": true
    },
    "kernelspec": {
      "name": "python3",
      "display_name": "Python 3"
    },
    "language_info": {
      "name": "python"
    }
  },
  "cells": [
    {
      "cell_type": "markdown",
      "metadata": {
        "id": "view-in-github",
        "colab_type": "text"
      },
      "source": [
        "<a href=\"https://colab.research.google.com/github/GauravSahani1417/PySpark-Basic-Implementation/blob/main/PySpark_Transformations_and_Actions.ipynb\" target=\"_parent\"><img src=\"https://colab.research.google.com/assets/colab-badge.svg\" alt=\"Open In Colab\"/></a>"
      ]
    },
    {
      "cell_type": "code",
      "metadata": {
        "colab": {
          "base_uri": "https://localhost:8080/"
        },
        "id": "B_Q1Fc4JUWEL",
        "outputId": "ee2bf085-8a19-4701-c0bc-fa984d8663d3"
      },
      "source": [
        "# Setting up the PySpark environment\n",
        "\n",
        "# Install java 8\n",
        "!apt-get update\n",
        "!apt-get install openjdk-8-jdk-headless -qq > /dev/null\n",
        "\n",
        "# Download Apache Spark binary: This link can change based on the version. Update this link with the latest version before using\n",
        "!wget -q https://downloads.apache.org/spark/spark-3.0.2/spark-3.0.2-bin-hadoop2.7.tgz\n",
        "\n",
        "# Unzip file\n",
        "!tar -xf spark-3.0.2-bin-hadoop2.7.tgz\n",
        "\n",
        "# Install findspark: Adds Pyspark to sys.path at runtime\n",
        "!pip install -q findspark\n",
        "\n",
        "# Install pyspark\n",
        "!pip install pyspark\n",
        "\n",
        "# Add environmental variables\n",
        "import os\n",
        "os.environ[\"JAVA_HOME\"] = \"/usr/lib/jvm/java-8-openjdk-amd64\"\n",
        "os.environ[\"SPARK_HOME\"] = \"/content/spark-3.0.2-bin-hadoop2.7\"\n",
        "\n",
        "# findspark will locate spark in the system\n",
        "import findspark\n",
        "findspark.init()"
      ],
      "execution_count": null,
      "outputs": [
        {
          "output_type": "stream",
          "text": [
            "\r0% [Working]\r            \rGet:1 http://security.ubuntu.com/ubuntu bionic-security InRelease [88.7 kB]\n",
            "\r0% [Connecting to archive.ubuntu.com (91.189.88.152)] [1 InRelease 0 B/88.7 kB \r0% [Connecting to archive.ubuntu.com (91.189.88.152)] [Waiting for headers] [Wa\r                                                                               \rGet:2 https://cloud.r-project.org/bin/linux/ubuntu bionic-cran40/ InRelease [3,626 B]\n",
            "\r                                                                               \rIgn:3 https://developer.download.nvidia.com/compute/cuda/repos/ubuntu1804/x86_64  InRelease\n",
            "\r                                                                               \r0% [Waiting for headers] [Waiting for headers] [Waiting for headers]\r0% [1 InRelease gpgv 88.7 kB] [Waiting for headers] [Waiting for headers] [Wait\r                                                                               \rIgn:4 https://developer.download.nvidia.com/compute/machine-learning/repos/ubuntu1804/x86_64  InRelease\n",
            "\r                                                                               \r0% [1 InRelease gpgv 88.7 kB] [Waiting for headers] [Waiting for headers]\r                                                                         \rGet:5 http://ppa.launchpad.net/c2d4u.team/c2d4u4.0+/ubuntu bionic InRelease [15.9 kB]\n",
            "\r0% [1 InRelease gpgv 88.7 kB] [Waiting for headers] [5 InRelease 2,572 B/15.9 k\r                                                                               \rGet:6 https://developer.download.nvidia.com/compute/cuda/repos/ubuntu1804/x86_64  Release [697 B]\n",
            "\r0% [1 InRelease gpgv 88.7 kB] [Waiting for headers] [5 InRelease 5,468 B/15.9 k\r                                                                               \rHit:7 http://archive.ubuntu.com/ubuntu bionic InRelease\n",
            "\r0% [1 InRelease gpgv 88.7 kB] [5 InRelease 11.3 kB/15.9 kB 71%] [Waiting for he\r                                                                               \rHit:8 https://developer.download.nvidia.com/compute/machine-learning/repos/ubuntu1804/x86_64  Release\n",
            "Get:9 https://developer.download.nvidia.com/compute/cuda/repos/ubuntu1804/x86_64  Release.gpg [836 B]\n",
            "Get:10 http://archive.ubuntu.com/ubuntu bionic-updates InRelease [88.7 kB]\n",
            "Get:11 http://security.ubuntu.com/ubuntu bionic-security/main amd64 Packages [2,185 kB]\n",
            "Hit:12 http://ppa.launchpad.net/cran/libgit2/ubuntu bionic InRelease\n",
            "Get:13 http://archive.ubuntu.com/ubuntu bionic-backports InRelease [74.6 kB]\n",
            "Get:14 http://ppa.launchpad.net/deadsnakes/ppa/ubuntu bionic InRelease [15.9 kB]\n",
            "Get:15 https://cloud.r-project.org/bin/linux/ubuntu bionic-cran40/ Packages [61.8 kB]\n",
            "Get:16 http://security.ubuntu.com/ubuntu bionic-security/restricted amd64 Packages [450 kB]\n",
            "Get:17 http://security.ubuntu.com/ubuntu bionic-security/universe amd64 Packages [1,415 kB]\n",
            "Get:18 http://ppa.launchpad.net/graphics-drivers/ppa/ubuntu bionic InRelease [21.3 kB]\n",
            "Ign:20 https://developer.download.nvidia.com/compute/cuda/repos/ubuntu1804/x86_64  Packages\n",
            "Get:20 https://developer.download.nvidia.com/compute/cuda/repos/ubuntu1804/x86_64  Packages [800 kB]\n",
            "Get:21 http://ppa.launchpad.net/c2d4u.team/c2d4u4.0+/ubuntu bionic/main Sources [1,772 kB]\n",
            "Get:22 http://archive.ubuntu.com/ubuntu bionic-updates/main amd64 Packages [2,619 kB]\n",
            "Get:23 http://ppa.launchpad.net/c2d4u.team/c2d4u4.0+/ubuntu bionic/main amd64 Packages [906 kB]\n",
            "Get:24 http://archive.ubuntu.com/ubuntu bionic-updates/multiverse amd64 Packages [33.5 kB]\n",
            "Get:25 http://archive.ubuntu.com/ubuntu bionic-updates/universe amd64 Packages [2,185 kB]\n",
            "Get:26 http://archive.ubuntu.com/ubuntu bionic-updates/restricted amd64 Packages [481 kB]\n",
            "Get:27 http://ppa.launchpad.net/deadsnakes/ppa/ubuntu bionic/main amd64 Packages [40.9 kB]\n",
            "Get:28 http://ppa.launchpad.net/graphics-drivers/ppa/ubuntu bionic/main amd64 Packages [41.6 kB]\n",
            "Fetched 13.3 MB in 4s (3,354 kB/s)\n",
            "Reading package lists... Done\n",
            "Collecting pyspark\n",
            "\u001b[?25l  Downloading https://files.pythonhosted.org/packages/89/db/e18cfd78e408de957821ec5ca56de1250645b05f8523d169803d8df35a64/pyspark-3.1.2.tar.gz (212.4MB)\n",
            "\u001b[K     |████████████████████████████████| 212.4MB 61kB/s \n",
            "\u001b[?25hCollecting py4j==0.10.9\n",
            "\u001b[?25l  Downloading https://files.pythonhosted.org/packages/9e/b6/6a4fb90cd235dc8e265a6a2067f2a2c99f0d91787f06aca4bcf7c23f3f80/py4j-0.10.9-py2.py3-none-any.whl (198kB)\n",
            "\u001b[K     |████████████████████████████████| 204kB 19.2MB/s \n",
            "\u001b[?25hBuilding wheels for collected packages: pyspark\n",
            "  Building wheel for pyspark (setup.py) ... \u001b[?25l\u001b[?25hdone\n",
            "  Created wheel for pyspark: filename=pyspark-3.1.2-py2.py3-none-any.whl size=212880768 sha256=389c0ab78af73a00c02af5249b7de6f8ceb31e5325275ad201eb682d3d85d371\n",
            "  Stored in directory: /root/.cache/pip/wheels/40/1b/2c/30f43be2627857ab80062bef1527c0128f7b4070b6b2d02139\n",
            "Successfully built pyspark\n",
            "Installing collected packages: py4j, pyspark\n",
            "Successfully installed py4j-0.10.9 pyspark-3.1.2\n"
          ],
          "name": "stdout"
        }
      ]
    },
    {
      "cell_type": "code",
      "metadata": {
        "id": "qne5PiZZUdXm"
      },
      "source": [
        "#Initialize Spark Session\n",
        "\n",
        "from pyspark.sql import SparkSession\n",
        "\n",
        "spark = SparkSession.builder \\\n",
        "        .master(\"local\") \\\n",
        "        .appName(\"Hands-on PySpark on Google Colab\") \\\n",
        "        .getOrCreate()"
      ],
      "execution_count": null,
      "outputs": []
    },
    {
      "cell_type": "code",
      "metadata": {
        "colab": {
          "base_uri": "https://localhost:8080/",
          "height": 214
        },
        "id": "6caD5QUaWAN1",
        "outputId": "8a39c469-e1df-4ed8-fa95-6b5ae55622b7"
      },
      "source": [
        "spark"
      ],
      "execution_count": null,
      "outputs": [
        {
          "output_type": "execute_result",
          "data": {
            "text/html": [
              "\n",
              "            <div>\n",
              "                <p><b>SparkSession - in-memory</b></p>\n",
              "                \n",
              "        <div>\n",
              "            <p><b>SparkContext</b></p>\n",
              "\n",
              "            <p><a href=\"http://513b924c44bc:4040\">Spark UI</a></p>\n",
              "\n",
              "            <dl>\n",
              "              <dt>Version</dt>\n",
              "                <dd><code>v3.0.2</code></dd>\n",
              "              <dt>Master</dt>\n",
              "                <dd><code>local</code></dd>\n",
              "              <dt>AppName</dt>\n",
              "                <dd><code>Hands-on PySpark on Google Colab</code></dd>\n",
              "            </dl>\n",
              "        </div>\n",
              "        \n",
              "            </div>\n",
              "        "
            ],
            "text/plain": [
              "<pyspark.sql.session.SparkSession at 0x7fb1a60f4090>"
            ]
          },
          "metadata": {
            "tags": []
          },
          "execution_count": 3
        }
      ]
    },
    {
      "cell_type": "code",
      "metadata": {
        "id": "g22kIWkfXh-F"
      },
      "source": [
        "!wget -q https://archive.ics.uci.edu/ml/machine-learning-databases/00603/in-vehicle-coupon-recommendation.csv -P sample_data/"
      ],
      "execution_count": null,
      "outputs": []
    },
    {
      "cell_type": "code",
      "metadata": {
        "colab": {
          "base_uri": "https://localhost:8080/"
        },
        "id": "P8monwPjXmM8",
        "outputId": "9b947a0d-d368-453b-8c4c-467623fbee4d"
      },
      "source": [
        "# We can set header='true' and inferSchema='true' to infer the schema while reading the data\n",
        "\n",
        "filepath = \"sample_data/in-vehicle-coupon-recommendation.csv\"\n",
        "spark_df = spark.read.format('csv').options(header='true', inferSchema='true').load(filepath)\n",
        "spark_df.show(5, truncate=False)"
      ],
      "execution_count": null,
      "outputs": [
        {
          "output_type": "stream",
          "text": [
            "+---------------+---------+-------+-----------+----+---------------------+----------+------+---+-----------------+------------+------------------------+----------+---------------+----+-----+-----------+---------+--------------------+----------------+----------------+-----------------+-----------------+--------------+-------------+---+\n",
            "|destination    |passanger|weather|temperature|time|coupon               |expiration|gender|age|maritalStatus    |has_children|education               |occupation|income         |car |Bar  |CoffeeHouse|CarryAway|RestaurantLessThan20|Restaurant20To50|toCoupon_GEQ5min|toCoupon_GEQ15min|toCoupon_GEQ25min|direction_same|direction_opp|Y  |\n",
            "+---------------+---------+-------+-----------+----+---------------------+----------+------+---+-----------------+------------+------------------------+----------+---------------+----+-----+-----------+---------+--------------------+----------------+----------------+-----------------+-----------------+--------------+-------------+---+\n",
            "|No Urgent Place|Alone    |Sunny  |55         |2PM |Restaurant(<20)      |1d        |Female|21 |Unmarried partner|1           |Some college - no degree|Unemployed|$37500 - $49999|null|never|never      |null     |4~8                 |1~3             |1               |0                |0                |0             |1            |1  |\n",
            "|No Urgent Place|Friend(s)|Sunny  |80         |10AM|Coffee House         |2h        |Female|21 |Unmarried partner|1           |Some college - no degree|Unemployed|$37500 - $49999|null|never|never      |null     |4~8                 |1~3             |1               |0                |0                |0             |1            |0  |\n",
            "|No Urgent Place|Friend(s)|Sunny  |80         |10AM|Carry out & Take away|2h        |Female|21 |Unmarried partner|1           |Some college - no degree|Unemployed|$37500 - $49999|null|never|never      |null     |4~8                 |1~3             |1               |1                |0                |0             |1            |1  |\n",
            "|No Urgent Place|Friend(s)|Sunny  |80         |2PM |Coffee House         |2h        |Female|21 |Unmarried partner|1           |Some college - no degree|Unemployed|$37500 - $49999|null|never|never      |null     |4~8                 |1~3             |1               |1                |0                |0             |1            |0  |\n",
            "|No Urgent Place|Friend(s)|Sunny  |80         |2PM |Coffee House         |1d        |Female|21 |Unmarried partner|1           |Some college - no degree|Unemployed|$37500 - $49999|null|never|never      |null     |4~8                 |1~3             |1               |1                |0                |0             |1            |0  |\n",
            "+---------------+---------+-------+-----------+----+---------------------+----------+------+---+-----------------+------------+------------------------+----------+---------------+----+-----+-----------+---------+--------------------+----------------+----------------+-----------------+-----------------+--------------+-------------+---+\n",
            "only showing top 5 rows\n",
            "\n"
          ],
          "name": "stdout"
        }
      ]
    },
    {
      "cell_type": "markdown",
      "metadata": {
        "id": "sHNlZAv4X9bl"
      },
      "source": [
        "Transformations and Actions"
      ]
    },
    {
      "cell_type": "code",
      "metadata": {
        "id": "Mle8_fzPX4n7"
      },
      "source": [
        "from pyspark.sql import functions as F"
      ],
      "execution_count": null,
      "outputs": []
    },
    {
      "cell_type": "code",
      "metadata": {
        "colab": {
          "base_uri": "https://localhost:8080/"
        },
        "id": "XxVOYU2dYCQF",
        "outputId": "b3d69993-3319-4eec-8cdc-e46f745cae53"
      },
      "source": [
        "#Actions\n",
        "\n",
        "# 1.SHOW:\n",
        "columns_to_use = [\"destination\", \"passanger\", \"weather\", \"temperature\", \"time\", \"coupon\", \"gender\", \"age\", \"has_children\", \"income\", \"Y\"]\n",
        "spark_df = spark_df.select(*columns_to_use)\n",
        "spark_df.show(5, truncate=False)"
      ],
      "execution_count": null,
      "outputs": [
        {
          "output_type": "stream",
          "text": [
            "+---------------+---------+-------+-----------+----+---------------------+------+---+------------+---------------+---+\n",
            "|destination    |passanger|weather|temperature|time|coupon               |gender|age|has_children|income         |Y  |\n",
            "+---------------+---------+-------+-----------+----+---------------------+------+---+------------+---------------+---+\n",
            "|No Urgent Place|Alone    |Sunny  |55         |2PM |Restaurant(<20)      |Female|21 |1           |$37500 - $49999|1  |\n",
            "|No Urgent Place|Friend(s)|Sunny  |80         |10AM|Coffee House         |Female|21 |1           |$37500 - $49999|0  |\n",
            "|No Urgent Place|Friend(s)|Sunny  |80         |10AM|Carry out & Take away|Female|21 |1           |$37500 - $49999|1  |\n",
            "|No Urgent Place|Friend(s)|Sunny  |80         |2PM |Coffee House         |Female|21 |1           |$37500 - $49999|0  |\n",
            "|No Urgent Place|Friend(s)|Sunny  |80         |2PM |Coffee House         |Female|21 |1           |$37500 - $49999|0  |\n",
            "+---------------+---------+-------+-----------+----+---------------------+------+---+------------+---------------+---+\n",
            "only showing top 5 rows\n",
            "\n"
          ],
          "name": "stdout"
        }
      ]
    },
    {
      "cell_type": "code",
      "metadata": {
        "colab": {
          "base_uri": "https://localhost:8080/"
        },
        "id": "xO7V-L4VYKr0",
        "outputId": "e6797876-7924-4db7-e52f-fa5b90e266d3"
      },
      "source": [
        "#count: count the number of rows in a dataframe\n",
        "#We did \"df.shape\" in pandas\n",
        "\n",
        "spark_df.count(), len(spark_df.columns)"
      ],
      "execution_count": null,
      "outputs": [
        {
          "output_type": "execute_result",
          "data": {
            "text/plain": [
              "(12684, 11)"
            ]
          },
          "metadata": {
            "tags": []
          },
          "execution_count": 8
        }
      ]
    },
    {
      "cell_type": "code",
      "metadata": {
        "colab": {
          "base_uri": "https://localhost:8080/"
        },
        "id": "-4US9HP6YQrP",
        "outputId": "360cda57-fb06-45da-92df-54c7fa6d3fa6"
      },
      "source": [
        "#collect: Run action command to compute and get the result\n",
        "\n",
        "spark_df.agg(F.min(\"temperature\"))"
      ],
      "execution_count": null,
      "outputs": [
        {
          "output_type": "execute_result",
          "data": {
            "text/plain": [
              "DataFrame[min(temperature): int]"
            ]
          },
          "metadata": {
            "tags": []
          },
          "execution_count": 9
        }
      ]
    },
    {
      "cell_type": "code",
      "metadata": {
        "colab": {
          "base_uri": "https://localhost:8080/"
        },
        "id": "Ebzq91NLYfCF",
        "outputId": "c8187232-944c-4003-8a41-84d02452d8fc"
      },
      "source": [
        "spark_df.agg(F.min(\"temperature\")).show()"
      ],
      "execution_count": null,
      "outputs": [
        {
          "output_type": "stream",
          "text": [
            "+----------------+\n",
            "|min(temperature)|\n",
            "+----------------+\n",
            "|              30|\n",
            "+----------------+\n",
            "\n"
          ],
          "name": "stdout"
        }
      ]
    },
    {
      "cell_type": "code",
      "metadata": {
        "colab": {
          "base_uri": "https://localhost:8080/"
        },
        "id": "tK6HsItBYhWS",
        "outputId": "621ceca6-0e11-4e27-fdcf-dd76672f4695"
      },
      "source": [
        "spark_df.agg(F.max(\"temperature\")).show()"
      ],
      "execution_count": null,
      "outputs": [
        {
          "output_type": "stream",
          "text": [
            "+----------------+\n",
            "|max(temperature)|\n",
            "+----------------+\n",
            "|              80|\n",
            "+----------------+\n",
            "\n"
          ],
          "name": "stdout"
        }
      ]
    },
    {
      "cell_type": "code",
      "metadata": {
        "colab": {
          "base_uri": "https://localhost:8080/"
        },
        "id": "2uCayvzBYjtQ",
        "outputId": "0d3d29ad-7074-469f-a2f7-ec54f9d57361"
      },
      "source": [
        "spark_df.collect()[:5]"
      ],
      "execution_count": null,
      "outputs": [
        {
          "output_type": "execute_result",
          "data": {
            "text/plain": [
              "[Row(destination='No Urgent Place', passanger='Alone', weather='Sunny', temperature=55, time='2PM', coupon='Restaurant(<20)', gender='Female', age='21', has_children=1, income='$37500 - $49999', Y=1),\n",
              " Row(destination='No Urgent Place', passanger='Friend(s)', weather='Sunny', temperature=80, time='10AM', coupon='Coffee House', gender='Female', age='21', has_children=1, income='$37500 - $49999', Y=0),\n",
              " Row(destination='No Urgent Place', passanger='Friend(s)', weather='Sunny', temperature=80, time='10AM', coupon='Carry out & Take away', gender='Female', age='21', has_children=1, income='$37500 - $49999', Y=1),\n",
              " Row(destination='No Urgent Place', passanger='Friend(s)', weather='Sunny', temperature=80, time='2PM', coupon='Coffee House', gender='Female', age='21', has_children=1, income='$37500 - $49999', Y=0),\n",
              " Row(destination='No Urgent Place', passanger='Friend(s)', weather='Sunny', temperature=80, time='2PM', coupon='Coffee House', gender='Female', age='21', has_children=1, income='$37500 - $49999', Y=0)]"
            ]
          },
          "metadata": {
            "tags": []
          },
          "execution_count": 12
        }
      ]
    },
    {
      "cell_type": "code",
      "metadata": {
        "colab": {
          "base_uri": "https://localhost:8080/"
        },
        "id": "M8l8e_LDYntS",
        "outputId": "73df9d2e-dfcf-4b85-a176-89bf831be6ae"
      },
      "source": [
        "#Transformations\n",
        "\n",
        "spark_df.show(5, truncate=False)"
      ],
      "execution_count": null,
      "outputs": [
        {
          "output_type": "stream",
          "text": [
            "+---------------+---------+-------+-----------+----+---------------------+------+---+------------+---------------+---+\n",
            "|destination    |passanger|weather|temperature|time|coupon               |gender|age|has_children|income         |Y  |\n",
            "+---------------+---------+-------+-----------+----+---------------------+------+---+------------+---------------+---+\n",
            "|No Urgent Place|Alone    |Sunny  |55         |2PM |Restaurant(<20)      |Female|21 |1           |$37500 - $49999|1  |\n",
            "|No Urgent Place|Friend(s)|Sunny  |80         |10AM|Coffee House         |Female|21 |1           |$37500 - $49999|0  |\n",
            "|No Urgent Place|Friend(s)|Sunny  |80         |10AM|Carry out & Take away|Female|21 |1           |$37500 - $49999|1  |\n",
            "|No Urgent Place|Friend(s)|Sunny  |80         |2PM |Coffee House         |Female|21 |1           |$37500 - $49999|0  |\n",
            "|No Urgent Place|Friend(s)|Sunny  |80         |2PM |Coffee House         |Female|21 |1           |$37500 - $49999|0  |\n",
            "+---------------+---------+-------+-----------+----+---------------------+------+---+------------+---------------+---+\n",
            "only showing top 5 rows\n",
            "\n"
          ],
          "name": "stdout"
        }
      ]
    },
    {
      "cell_type": "code",
      "metadata": {
        "colab": {
          "base_uri": "https://localhost:8080/"
        },
        "id": "Nmk2aV7pYxIB",
        "outputId": "d56a7af1-2823-4027-8531-8538d41a3146"
      },
      "source": [
        "#distinct: Get unique values in a columns\n",
        "\n",
        "spark_df.select(\"gender\").distinct().show()"
      ],
      "execution_count": null,
      "outputs": [
        {
          "output_type": "stream",
          "text": [
            "+------+\n",
            "|gender|\n",
            "+------+\n",
            "|Female|\n",
            "|  Male|\n",
            "+------+\n",
            "\n"
          ],
          "name": "stdout"
        }
      ]
    },
    {
      "cell_type": "code",
      "metadata": {
        "colab": {
          "base_uri": "https://localhost:8080/"
        },
        "id": "P2Cjm4TXY-ts",
        "outputId": "6f62ecf5-c69c-4001-e032-5455f600d521"
      },
      "source": [
        "spark_df.select(\"passanger\").distinct().show()"
      ],
      "execution_count": null,
      "outputs": [
        {
          "output_type": "stream",
          "text": [
            "+---------+\n",
            "|passanger|\n",
            "+---------+\n",
            "|  Partner|\n",
            "|    Alone|\n",
            "|Friend(s)|\n",
            "|   Kid(s)|\n",
            "+---------+\n",
            "\n"
          ],
          "name": "stdout"
        }
      ]
    },
    {
      "cell_type": "code",
      "metadata": {
        "colab": {
          "base_uri": "https://localhost:8080/"
        },
        "id": "7HlEcUVTZCXz",
        "outputId": "a88cb603-9edc-4557-de99-964796a65c42"
      },
      "source": [
        "#withColumn: Create new columns & withColumnRenamed\n",
        "\n",
        "#We will add extra column \"Constant column\" and fill it with \"full data\"\n",
        "updated_spark_df = spark_df.withColumn(\"constant_column\", F.lit(\"full_data\"))\n",
        "updated_spark_df.show(3, truncate=False)"
      ],
      "execution_count": null,
      "outputs": [
        {
          "output_type": "stream",
          "text": [
            "+---------------+---------+-------+-----------+----+---------------------+------+---+------------+---------------+---+---------------+\n",
            "|destination    |passanger|weather|temperature|time|coupon               |gender|age|has_children|income         |Y  |constant_column|\n",
            "+---------------+---------+-------+-----------+----+---------------------+------+---+------------+---------------+---+---------------+\n",
            "|No Urgent Place|Alone    |Sunny  |55         |2PM |Restaurant(<20)      |Female|21 |1           |$37500 - $49999|1  |full_data      |\n",
            "|No Urgent Place|Friend(s)|Sunny  |80         |10AM|Coffee House         |Female|21 |1           |$37500 - $49999|0  |full_data      |\n",
            "|No Urgent Place|Friend(s)|Sunny  |80         |10AM|Carry out & Take away|Female|21 |1           |$37500 - $49999|1  |full_data      |\n",
            "+---------------+---------+-------+-----------+----+---------------------+------+---+------------+---------------+---+---------------+\n",
            "only showing top 3 rows\n",
            "\n"
          ],
          "name": "stdout"
        }
      ]
    },
    {
      "cell_type": "code",
      "metadata": {
        "colab": {
          "base_uri": "https://localhost:8080/"
        },
        "id": "ousLmyXNZkAv",
        "outputId": "4072dc33-cb92-4449-91b9-7d8c317e6784"
      },
      "source": [
        "#We will use \"When\" function to replace our Gender column as \"1 for Male\" & \"0 for Female\"\n",
        "updated_spark_df = updated_spark_df.withColumn(\"gender_mapped\", F.when(F.col(\"gender\") == \"Female\", 0)\\\n",
        "                                                                  .when(F.col(\"gender\") == \"Male\", 1)\\\n",
        "                                                                  .otherwise(2))\n",
        "updated_spark_df.sample(0.2).show(5, truncate=False)"
      ],
      "execution_count": null,
      "outputs": [
        {
          "output_type": "stream",
          "text": [
            "+---------------+---------+-------+-----------+----+---------------------+------+---+------------+---------------+---+---------------+-------------+\n",
            "|destination    |passanger|weather|temperature|time|coupon               |gender|age|has_children|income         |Y  |constant_column|gender_mapped|\n",
            "+---------------+---------+-------+-----------+----+---------------------+------+---+------------+---------------+---+---------------+-------------+\n",
            "|No Urgent Place|Friend(s)|Sunny  |80         |2PM |Coffee House         |Female|21 |1           |$37500 - $49999|0  |full_data      |0            |\n",
            "|No Urgent Place|Friend(s)|Sunny  |55         |2PM |Carry out & Take away|Female|21 |1           |$37500 - $49999|1  |full_data      |0            |\n",
            "|Home           |Alone    |Sunny  |80         |6PM |Coffee House         |Female|21 |1           |$37500 - $49999|0  |full_data      |0            |\n",
            "|Work           |Alone    |Sunny  |80         |7AM |Carry out & Take away|Female|21 |1           |$37500 - $49999|1  |full_data      |0            |\n",
            "|No Urgent Place|Friend(s)|Sunny  |80         |2PM |Coffee House         |Male  |21 |0           |$62500 - $74999|0  |full_data      |1            |\n",
            "+---------------+---------+-------+-----------+----+---------------------+------+---+------------+---------------+---+---------------+-------------+\n",
            "only showing top 5 rows\n",
            "\n"
          ],
          "name": "stdout"
        }
      ]
    },
    {
      "cell_type": "code",
      "metadata": {
        "colab": {
          "base_uri": "https://localhost:8080/"
        },
        "id": "cD_9rxWDZoCv",
        "outputId": "93d15d5a-d758-44c2-edcb-c395fd294db9"
      },
      "source": [
        "#We will use withColumnRenamed to rename our column\n",
        "updated_spark_df = updated_spark_df.withColumnRenamed(\"passanger\", \"passenger\")\n",
        "updated_spark_df.show(5, truncate=False)"
      ],
      "execution_count": null,
      "outputs": [
        {
          "output_type": "stream",
          "text": [
            "+---------------+---------+-------+-----------+----+---------------------+------+---+------------+---------------+---+---------------+-------------+\n",
            "|destination    |passenger|weather|temperature|time|coupon               |gender|age|has_children|income         |Y  |constant_column|gender_mapped|\n",
            "+---------------+---------+-------+-----------+----+---------------------+------+---+------------+---------------+---+---------------+-------------+\n",
            "|No Urgent Place|Alone    |Sunny  |55         |2PM |Restaurant(<20)      |Female|21 |1           |$37500 - $49999|1  |full_data      |0            |\n",
            "|No Urgent Place|Friend(s)|Sunny  |80         |10AM|Coffee House         |Female|21 |1           |$37500 - $49999|0  |full_data      |0            |\n",
            "|No Urgent Place|Friend(s)|Sunny  |80         |10AM|Carry out & Take away|Female|21 |1           |$37500 - $49999|1  |full_data      |0            |\n",
            "|No Urgent Place|Friend(s)|Sunny  |80         |2PM |Coffee House         |Female|21 |1           |$37500 - $49999|0  |full_data      |0            |\n",
            "|No Urgent Place|Friend(s)|Sunny  |80         |2PM |Coffee House         |Female|21 |1           |$37500 - $49999|0  |full_data      |0            |\n",
            "+---------------+---------+-------+-----------+----+---------------------+------+---+------------+---------------+---+---------------+-------------+\n",
            "only showing top 5 rows\n",
            "\n"
          ],
          "name": "stdout"
        }
      ]
    },
    {
      "cell_type": "code",
      "metadata": {
        "colab": {
          "base_uri": "https://localhost:8080/"
        },
        "id": "rXEfnRruZ_nD",
        "outputId": "9382af85-1e96-44a6-8856-6d3d91eba71c"
      },
      "source": [
        "updated_spark_df = updated_spark_df.withColumnRenamed(\"constant_column\", \"const_col\")\n",
        "updated_spark_df.show(5, truncate=False)"
      ],
      "execution_count": null,
      "outputs": [
        {
          "output_type": "stream",
          "text": [
            "+---------------+---------+-------+-----------+----+---------------------+------+---+------------+---------------+---+---------+-------------+\n",
            "|destination    |passenger|weather|temperature|time|coupon               |gender|age|has_children|income         |Y  |const_col|gender_mapped|\n",
            "+---------------+---------+-------+-----------+----+---------------------+------+---+------------+---------------+---+---------+-------------+\n",
            "|No Urgent Place|Alone    |Sunny  |55         |2PM |Restaurant(<20)      |Female|21 |1           |$37500 - $49999|1  |full_data|0            |\n",
            "|No Urgent Place|Friend(s)|Sunny  |80         |10AM|Coffee House         |Female|21 |1           |$37500 - $49999|0  |full_data|0            |\n",
            "|No Urgent Place|Friend(s)|Sunny  |80         |10AM|Carry out & Take away|Female|21 |1           |$37500 - $49999|1  |full_data|0            |\n",
            "|No Urgent Place|Friend(s)|Sunny  |80         |2PM |Coffee House         |Female|21 |1           |$37500 - $49999|0  |full_data|0            |\n",
            "|No Urgent Place|Friend(s)|Sunny  |80         |2PM |Coffee House         |Female|21 |1           |$37500 - $49999|0  |full_data|0            |\n",
            "+---------------+---------+-------+-----------+----+---------------------+------+---+------------+---------------+---+---------+-------------+\n",
            "only showing top 5 rows\n",
            "\n"
          ],
          "name": "stdout"
        }
      ]
    },
    {
      "cell_type": "code",
      "metadata": {
        "colab": {
          "base_uri": "https://localhost:8080/"
        },
        "id": "RCiAq9yeaIZw",
        "outputId": "d1e628da-d6d4-435d-c16e-51414412f2b5"
      },
      "source": [
        "#filter: Filter data\n",
        "\n",
        "updated_spark_df.select(\"temperature\").distinct().show()"
      ],
      "execution_count": null,
      "outputs": [
        {
          "output_type": "stream",
          "text": [
            "+-----------+\n",
            "|temperature|\n",
            "+-----------+\n",
            "|         55|\n",
            "|         80|\n",
            "|         30|\n",
            "+-----------+\n",
            "\n"
          ],
          "name": "stdout"
        }
      ]
    },
    {
      "cell_type": "code",
      "metadata": {
        "colab": {
          "base_uri": "https://localhost:8080/"
        },
        "id": "hFYtXH0jaN9b",
        "outputId": "ab73ab0f-d45d-45d3-9cad-3cef4fff1bb0"
      },
      "source": [
        "temp_80_df = updated_spark_df.filter(F.col(\"temperature\") == 80)\n",
        "temp_80_df.show(3)"
      ],
      "execution_count": null,
      "outputs": [
        {
          "output_type": "stream",
          "text": [
            "+---------------+---------+-------+-----------+----+--------------------+------+---+------------+---------------+---+---------+-------------+\n",
            "|    destination|passenger|weather|temperature|time|              coupon|gender|age|has_children|         income|  Y|const_col|gender_mapped|\n",
            "+---------------+---------+-------+-----------+----+--------------------+------+---+------------+---------------+---+---------+-------------+\n",
            "|No Urgent Place|Friend(s)|  Sunny|         80|10AM|        Coffee House|Female| 21|           1|$37500 - $49999|  0|full_data|            0|\n",
            "|No Urgent Place|Friend(s)|  Sunny|         80|10AM|Carry out & Take ...|Female| 21|           1|$37500 - $49999|  1|full_data|            0|\n",
            "|No Urgent Place|Friend(s)|  Sunny|         80| 2PM|        Coffee House|Female| 21|           1|$37500 - $49999|  0|full_data|            0|\n",
            "+---------------+---------+-------+-----------+----+--------------------+------+---+------------+---------------+---+---------+-------------+\n",
            "only showing top 3 rows\n",
            "\n"
          ],
          "name": "stdout"
        }
      ]
    },
    {
      "cell_type": "code",
      "metadata": {
        "colab": {
          "base_uri": "https://localhost:8080/"
        },
        "id": "cNGZIyifbKZz",
        "outputId": "c4cc03c7-3c0a-4c4d-856d-7c3348814e77"
      },
      "source": [
        "updated_spark_df.count(), temp_80_df.count()"
      ],
      "execution_count": null,
      "outputs": [
        {
          "output_type": "execute_result",
          "data": {
            "text/plain": [
              "(12684, 6528)"
            ]
          },
          "metadata": {
            "tags": []
          },
          "execution_count": 22
        }
      ]
    },
    {
      "cell_type": "code",
      "metadata": {
        "colab": {
          "base_uri": "https://localhost:8080/"
        },
        "id": "uv5o_3MIbNu_",
        "outputId": "2e312daf-d1b1-4f54-8eaf-591b8dd464aa"
      },
      "source": [
        "temp_45_90_df = updated_spark_df.filter((F.col(\"temperature\") > 45) & (F.col(\"temperature\") < 90))\n",
        "temp_45_90_df.show(3)"
      ],
      "execution_count": null,
      "outputs": [
        {
          "output_type": "stream",
          "text": [
            "+---------------+---------+-------+-----------+----+--------------------+------+---+------------+---------------+---+---------+-------------+\n",
            "|    destination|passenger|weather|temperature|time|              coupon|gender|age|has_children|         income|  Y|const_col|gender_mapped|\n",
            "+---------------+---------+-------+-----------+----+--------------------+------+---+------------+---------------+---+---------+-------------+\n",
            "|No Urgent Place|    Alone|  Sunny|         55| 2PM|     Restaurant(<20)|Female| 21|           1|$37500 - $49999|  1|full_data|            0|\n",
            "|No Urgent Place|Friend(s)|  Sunny|         80|10AM|        Coffee House|Female| 21|           1|$37500 - $49999|  0|full_data|            0|\n",
            "|No Urgent Place|Friend(s)|  Sunny|         80|10AM|Carry out & Take ...|Female| 21|           1|$37500 - $49999|  1|full_data|            0|\n",
            "+---------------+---------+-------+-----------+----+--------------------+------+---+------------+---------------+---+---------+-------------+\n",
            "only showing top 3 rows\n",
            "\n"
          ],
          "name": "stdout"
        }
      ]
    },
    {
      "cell_type": "code",
      "metadata": {
        "colab": {
          "base_uri": "https://localhost:8080/"
        },
        "id": "o3VBJbCmbQa1",
        "outputId": "ad59d715-605d-4d6c-bdd0-fdb45efe1d19"
      },
      "source": [
        "#Groupby and aggregate\n",
        "spark_df.show(3, truncate=False)"
      ],
      "execution_count": null,
      "outputs": [
        {
          "output_type": "stream",
          "text": [
            "+---------------+---------+-------+-----------+----+---------------------+------+---+------------+---------------+---+\n",
            "|destination    |passanger|weather|temperature|time|coupon               |gender|age|has_children|income         |Y  |\n",
            "+---------------+---------+-------+-----------+----+---------------------+------+---+------------+---------------+---+\n",
            "|No Urgent Place|Alone    |Sunny  |55         |2PM |Restaurant(<20)      |Female|21 |1           |$37500 - $49999|1  |\n",
            "|No Urgent Place|Friend(s)|Sunny  |80         |10AM|Coffee House         |Female|21 |1           |$37500 - $49999|0  |\n",
            "|No Urgent Place|Friend(s)|Sunny  |80         |10AM|Carry out & Take away|Female|21 |1           |$37500 - $49999|1  |\n",
            "+---------------+---------+-------+-----------+----+---------------------+------+---+------------+---------------+---+\n",
            "only showing top 3 rows\n",
            "\n"
          ],
          "name": "stdout"
        }
      ]
    },
    {
      "cell_type": "code",
      "metadata": {
        "colab": {
          "base_uri": "https://localhost:8080/"
        },
        "id": "1E-g7yw1bXJf",
        "outputId": "fa4dcd33-590e-49ab-c6f8-a32090ca2e16"
      },
      "source": [
        "spark_df.groupby(\"gender\").count().show()"
      ],
      "execution_count": null,
      "outputs": [
        {
          "output_type": "stream",
          "text": [
            "+------+-----+\n",
            "|gender|count|\n",
            "+------+-----+\n",
            "|Female| 6511|\n",
            "|  Male| 6173|\n",
            "+------+-----+\n",
            "\n"
          ],
          "name": "stdout"
        }
      ]
    },
    {
      "cell_type": "code",
      "metadata": {
        "colab": {
          "base_uri": "https://localhost:8080/"
        },
        "id": "P-sFpl8-bZtq",
        "outputId": "194cccff-deed-4e2b-f84c-d37d7601e7c1"
      },
      "source": [
        "spark_df.groupby(\"temperature\").count().show()"
      ],
      "execution_count": null,
      "outputs": [
        {
          "output_type": "stream",
          "text": [
            "+-----------+-----+\n",
            "|temperature|count|\n",
            "+-----------+-----+\n",
            "|         55| 3840|\n",
            "|         80| 6528|\n",
            "|         30| 2316|\n",
            "+-----------+-----+\n",
            "\n"
          ],
          "name": "stdout"
        }
      ]
    },
    {
      "cell_type": "code",
      "metadata": {
        "colab": {
          "base_uri": "https://localhost:8080/"
        },
        "id": "TdtwZbW_bbaE",
        "outputId": "4e9b52f5-552a-4c48-ef68-a8f1a41ce9b9"
      },
      "source": [
        "spark_df.groupby(\"gender\").agg(F.min(\"temperature\"), F.max(\"temperature\")).show()"
      ],
      "execution_count": null,
      "outputs": [
        {
          "output_type": "stream",
          "text": [
            "+------+----------------+----------------+\n",
            "|gender|min(temperature)|max(temperature)|\n",
            "+------+----------------+----------------+\n",
            "|Female|              30|              80|\n",
            "|  Male|              30|              80|\n",
            "+------+----------------+----------------+\n",
            "\n"
          ],
          "name": "stdout"
        }
      ]
    },
    {
      "cell_type": "code",
      "metadata": {
        "colab": {
          "base_uri": "https://localhost:8080/"
        },
        "id": "3CgX7Ysibfn5",
        "outputId": "806d231d-d0b4-4cf6-c35c-4a9bc19190a5"
      },
      "source": [
        "spark_df.groupby(\"gender\").agg(F.min(\"temperature\").alias(\"min_temperature\"), F.max(\"temperature\").alias(\"max_temperature\")).show()"
      ],
      "execution_count": null,
      "outputs": [
        {
          "output_type": "stream",
          "text": [
            "+------+---------------+---------------+\n",
            "|gender|min_temperature|max_temperature|\n",
            "+------+---------------+---------------+\n",
            "|Female|             30|             80|\n",
            "|  Male|             30|             80|\n",
            "+------+---------------+---------------+\n",
            "\n"
          ],
          "name": "stdout"
        }
      ]
    },
    {
      "cell_type": "code",
      "metadata": {
        "id": "wy_OWxc9bhql"
      },
      "source": [
        ""
      ],
      "execution_count": null,
      "outputs": []
    }
  ]
}